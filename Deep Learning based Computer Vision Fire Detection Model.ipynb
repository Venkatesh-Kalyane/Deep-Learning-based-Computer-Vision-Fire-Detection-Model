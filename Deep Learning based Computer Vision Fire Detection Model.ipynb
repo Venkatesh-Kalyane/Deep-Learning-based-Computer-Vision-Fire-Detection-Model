{
 "cells": [
  {
   "cell_type": "code",
   "execution_count": 1,
   "id": "c85fb34f",
   "metadata": {},
   "outputs": [
    {
     "name": "stdout",
     "output_type": "stream",
     "text": [
      "Found 2320 images belonging to 2 classes.\n",
      "Found 331 images belonging to 2 classes.\n"
     ]
    },
    {
     "name": "stderr",
     "output_type": "stream",
     "text": [
      "C:\\Users\\708788\\Anaconda3\\lib\\site-packages\\keras\\engine\\training.py:1915: UserWarning: `Model.fit_generator` is deprecated and will be removed in a future version. Please use `Model.fit`, which supports generators.\n",
      "  warnings.warn('`Model.fit_generator` is deprecated and '\n"
     ]
    },
    {
     "name": "stdout",
     "output_type": "stream",
     "text": [
      "Epoch 1/10\n",
      "62/62 [==============================] - ETA: 0s - loss: 0.6242 - accuracy: 0.6568WARNING:tensorflow:Your input ran out of data; interrupting training. Make sure that your dataset or generator can generate at least `steps_per_epoch * epochs` batches (in this case, 5 batches). You may need to use the repeat() function when building your dataset.\n",
      "62/62 [==============================] - 82s 1s/step - loss: 0.6229 - accuracy: 0.6581 - val_loss: 0.6079 - val_accuracy: 0.6979\n",
      "Epoch 2/10\n",
      "62/62 [==============================] - 53s 849ms/step - loss: 0.3894 - accuracy: 0.8381\n",
      "Epoch 3/10\n",
      "62/62 [==============================] - 51s 825ms/step - loss: 0.2732 - accuracy: 0.8955\n",
      "Epoch 4/10\n",
      "62/62 [==============================] - 52s 837ms/step - loss: 0.2269 - accuracy: 0.9034\n",
      "Epoch 5/10\n",
      "62/62 [==============================] - 52s 836ms/step - loss: 0.1983 - accuracy: 0.9268\n",
      "Epoch 6/10\n",
      "62/62 [==============================] - 52s 840ms/step - loss: 0.2001 - accuracy: 0.9273\n",
      "Epoch 7/10\n",
      "62/62 [==============================] - 52s 843ms/step - loss: 0.1746 - accuracy: 0.9347\n",
      "Epoch 8/10\n",
      "62/62 [==============================] - 53s 852ms/step - loss: 0.1713 - accuracy: 0.9386\n",
      "Epoch 9/10\n",
      "62/62 [==============================] - 52s 842ms/step - loss: 0.1929 - accuracy: 0.9318\n",
      "Epoch 10/10\n",
      "62/62 [==============================] - 53s 859ms/step - loss: 0.1681 - accuracy: 0.9390\n"
     ]
    }
   ],
   "source": [
    "from keras.models import Sequential\n",
    "from keras.layers import Convolution2D\n",
    "from keras.layers import MaxPooling2D\n",
    "from keras.layers import Flatten\n",
    "from keras.layers import Dense\n",
    "from keras.preprocessing.image import ImageDataGenerator\n",
    "from PIL import ImageFile\n",
    "ImageFile.LOAD_TRUNCATED_IMAGES = True\n",
    "\n",
    "\n",
    "\n",
    "\n",
    "train_datagen = ImageDataGenerator(\n",
    "                    rescale=1./255,\n",
    "                    shear_range=0.2,\n",
    "                    zoom_range=0.2,\n",
    "                    horizontal_flip=True)\n",
    "test_datagen = ImageDataGenerator(rescale=1./255)\n",
    "            \n",
    "training_set = train_datagen.flow_from_directory(\n",
    "                    'C:/Users/708788/OneDrive - Cognizant/Desktop/ML Datasets/Fire Detection/Fire Detection Dataset/Train',\n",
    "                    target_size=(320, 240),\n",
    "                    batch_size=32,\n",
    "                    class_mode='binary')\n",
    "            \n",
    "test_set = test_datagen.flow_from_directory(\n",
    "                    'C:/Users/708788/OneDrive - Cognizant/Desktop/ML Datasets/Fire Detection/Fire Detection Dataset/Test',\n",
    "                    target_size=(320, 240),\n",
    "                    batch_size=512,\n",
    "                    class_mode='binary')\n",
    "\n",
    "#dense_layers = [0,1,2]\n",
    "#layer_sizes = [32,64,128]\n",
    "#conv_layers = [1,2,3]\n",
    "dense_layers = [2]\n",
    "layer_sizes = [64]\n",
    "conv_layers = [3]\n",
    "\n",
    "for dense_layer in dense_layers:\n",
    "    for layer_size in layer_sizes:\n",
    "        for conv_layer in conv_layers:\n",
    "            \n",
    "\n",
    "            classifier = Sequential()\n",
    "\n",
    "            classifier.add(Convolution2D(32,3,3,input_shape=(320,240,3),activation='relu'))\n",
    "            \n",
    "            classifier.add(MaxPooling2D(pool_size=(2, 2)))\n",
    "\n",
    "            for l in range(conv_layer-1):\n",
    "                classifier.add(Convolution2D(32,3,3,activation='relu'))\n",
    "                classifier.add(MaxPooling2D(pool_size=(2, 2)))\n",
    "\n",
    "            classifier.add(Flatten())\n",
    "            for _ in range(dense_layer):\n",
    "                classifier.add(Dense(layer_size,activation='relu'))\n",
    "                \n",
    "                \n",
    "\n",
    "            classifier.add(Dense(units=1,activation='sigmoid'))\n",
    "            \n",
    "            \n",
    "\n",
    "            classifier.compile(optimizer='adam',metrics=['accuracy'],loss='binary_crossentropy')\n",
    "            \n",
    "            classifier.fit_generator(\n",
    "                    training_set,\n",
    "                    steps_per_epoch=62,\n",
    "                    epochs=10,\n",
    "                    validation_data=test_set,\n",
    "                    validation_steps=5)\n"
   ]
  },
  {
   "cell_type": "code",
   "execution_count": 199,
   "id": "6ade553f",
   "metadata": {},
   "outputs": [],
   "source": [
    "classifier.save('ip.h5')"
   ]
  },
  {
   "cell_type": "code",
   "execution_count": 200,
   "id": "e1585ae1",
   "metadata": {},
   "outputs": [],
   "source": [
    "fire_cascade = cv2.CascadeClassifier('fire_detection_cascade_model.xml')"
   ]
  },
  {
   "cell_type": "code",
   "execution_count": 201,
   "id": "4177ae1c",
   "metadata": {},
   "outputs": [],
   "source": [
    "import warnings\n",
    "warnings.filterwarnings(\"ignore\")\n",
    "import cv2         # Library for openCV\n",
    "import threading   # Library for threading -- which allows code to run in backend\n",
    "import playsound   # Library for alarm sound\n",
    "import smtplib     # Library for email sending"
   ]
  },
  {
   "cell_type": "code",
   "execution_count": 202,
   "id": "6233c757",
   "metadata": {},
   "outputs": [
    {
     "name": "stdout",
     "output_type": "stream",
     "text": [
      "Nighwa, Kubeer mandal, Nirmal, Telangana, India\n",
      "Latitude =  19.185649\n",
      "Longitude =  77.8590162\n"
     ]
    }
   ],
   "source": [
    "# importing geopy library\n",
    "from geopy.geocoders import Nominatim\n",
    "  \n",
    "# calling the Nominatim tool\n",
    "loc = Nominatim(user_agent=\"GetLoc\")\n",
    "  \n",
    "# entering the location name\n",
    "getLoc = loc.geocode(\"Nighwa\")\n",
    "  \n",
    "# printing address\n",
    "print(getLoc.address)\n",
    "print(\"Latitude = \", getLoc.latitude)\n",
    "print(\"Longitude = \", getLoc.longitude)"
   ]
  },
  {
   "cell_type": "code",
   "execution_count": 203,
   "id": "a9716040",
   "metadata": {},
   "outputs": [],
   "source": [
    "runOnce = False # created boolean\n",
    "\n",
    "\n",
    "def play_alarm_sound_function(): # defined function to play alarm post fire detection using threading\n",
    "    playsound.playsound('fire_alarm.mp3',True) # to play alarm # mp3 audio file is also provided with the code.\n",
    "    print(\"Fire alarm end\") # to print in consol\n",
    "\n",
    "def send_mail_function(): # defined function to send mail post fire detection using threading\n",
    "    \n",
    "    recipientmail = \"vkalyane6895@gmail.com\" # recipients mail\n",
    "    recipientmail = recipientmail.lower() # To lower case mail\n",
    "    subject = \"Fire Incident Occured\"\n",
    "    text = \"Hi Team,\" + \"\\n\" + \"\\n\" + \"Fire Incident has been reported at following place:\" + \"\\n\" + \"\\n\" + \"Nighwa, Kubeer mandal, Nirmal, Telangana, India\" + \"\\n\" + \"19.185649\" + \"\\n\" + \"77.8590162\" + \"\\n\" + \"\\n\" + \"Please Reach out as early as possible.\" + \"\\n\" + \"\\n\" + \"Regards,\" +\"\\n\" + \"Venkatesh\"\n",
    "    \n",
    "    message = 'Subject: {}\\n\\n{}'.format(subject, text)\n",
    "    \n",
    "    try:\n",
    "        server = smtplib.SMTP('smtp.gmail.com', 587)\n",
    "        server.ehlo()\n",
    "        server.starttls()\n",
    "        server.login(\"vsk5895@gmail.com\", '**********') # Senders mail ID and password\n",
    "        server.sendmail('vsk5895@gmail.com', 'vkalyane6895@gmail.com', message) # recipients mail with mail message\n",
    "        print(\"Alert mail sent sucesfully to {}\".format(recipientmail)) # to print in consol to whome mail is sent\n",
    "        server.close() ## To close server\n",
    "        \n",
    "    except Exception as e:\n",
    "        print(e) # To print error if any"
   ]
  },
  {
   "cell_type": "code",
   "execution_count": 204,
   "id": "b50e59db",
   "metadata": {},
   "outputs": [
    {
     "name": "stdout",
     "output_type": "stream",
     "text": [
      "Mail send initiated\n",
      "Alert mail sent sucesfully to vkalyane6895@gmail.com\n"
     ]
    }
   ],
   "source": [
    "import cv2\n",
    "import numpy as np\n",
    "from PIL import Image\n",
    "import tensorflow as tf\n",
    "from tensorflow import keras\n",
    "from keras.preprocessing import image\n",
    "\n",
    "#Load the saved model\n",
    "model = keras.models.load_model('ip.h5')\n",
    "vid = cv2.VideoCapture(0)\n",
    "\n",
    "#width = int(video.get(cv2.CAP_PROP_FRAME_WIDTH) + 0.5)\n",
    "#height = int(video.get(cv2.CAP_PROP_FRAME_HEIGHT) + 0.5)\n",
    "#size = (width, height)\n",
    "#fourcc = cv2.VideoWriter_fourcc(*'MJPG')\n",
    "#result = cv2.VideoWriter('C:/Users/708788/OneDrive - Cognizant/Desktop/videos/Fire Detection.mp4', fourcc,20.0, (width, height))\n",
    "\n",
    "while(True):\n",
    "    ret, frame = vid.read() # Value in ret is True # To read video frame\n",
    "    gray = cv2.cvtColor(frame, cv2.COLOR_BGR2GRAY) # To convert frame into gray color\n",
    "    fire = fire_cascade.detectMultiScale(frame, 1.2, 5) # to provide frame resolution\n",
    "    im = Image.fromarray(frame, 'RGB')\n",
    "    im = im.resize((240,320))\n",
    "    img_array = image.img_to_array(im)\n",
    "    img_array = np.expand_dims(img_array, axis=0) / 255\n",
    "    probabilities = model.predict(img_array)[0]\n",
    "    prediction = np.argmax(probabilities)\n",
    "    label = 'FIRE: '+str(probabilities)\n",
    "\n",
    "    ## to highlight fire with square\n",
    "    if prediction == 0:\n",
    "        for (x,y,w,h) in fire:\n",
    "            cv2.rectangle(frame,(x,y),(x+w,y+h),(0,0,255),2)\n",
    "            cv2.putText(frame, label, (x, y-10),cv2.FONT_HERSHEY_SIMPLEX,0.8,(0,255,0),2)\n",
    "            roi_gray = gray[y:y+h, x:x+w]\n",
    "            roi_color = frame[y:y+h, x:x+w]\n",
    "            \n",
    "            print(\"Fire alarm initiated\")\n",
    "            threading.Thread(target=play_alarm_sound_function).start()  # To call alarm thread\n",
    "            \n",
    "            if runOnce == False:\n",
    "                print(\"Mail send initiated\")\n",
    "                threading.Thread(target=send_mail_function).start() # To call alarm thread\n",
    "                runOnce = True\n",
    "                \n",
    "            if runOnce == True:\n",
    "                break\n",
    "\n",
    "    cv2.imshow('frame', frame)\n",
    "    key=cv2.waitKey(1)\n",
    "    \n",
    "    if(key==27):\n",
    "        break\n",
    "\n",
    "vid.release()\n",
    "#result.release()\n",
    "cv2.destroyAllWindows()"
   ]
  }
 ],
 "metadata": {
  "kernelspec": {
   "display_name": "Python 3",
   "language": "python",
   "name": "python3"
  },
  "language_info": {
   "codemirror_mode": {
    "name": "ipython",
    "version": 3
   },
   "file_extension": ".py",
   "mimetype": "text/x-python",
   "name": "python",
   "nbconvert_exporter": "python",
   "pygments_lexer": "ipython3",
   "version": "3.8.8"
  }
 },
 "nbformat": 4,
 "nbformat_minor": 5
}
